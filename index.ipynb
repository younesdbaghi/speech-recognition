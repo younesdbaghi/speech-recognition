{
 "cells": [
  {
   "cell_type": "code",
   "execution_count": 2,
   "metadata": {},
   "outputs": [],
   "source": [
    "import os\n",
    "import shutil\n",
    "import librosa\n",
    "import librosa.display\n",
    "import matplotlib.pyplot as plt\n",
    "import numpy as np\n",
    "from sklearn.preprocessing import LabelEncoder\n",
    "from sklearn.model_selection import train_test_split\n",
    "from sklearn.metrics import confusion_matrix, ConfusionMatrixDisplay\n",
    "import tensorflow as tf\n",
    "from tensorflow.keras.models import Sequential\n",
    "from tensorflow.keras.layers import Conv2D, MaxPooling2D, Flatten, Dense, Dropout"
   ]
  },
  {
   "cell_type": "code",
   "execution_count": 3,
   "metadata": {},
   "outputs": [],
   "source": [
    "dataset_path = \"./archive\" #inputs: Données existants\n",
    "output_path = \"./sorted_by_emotion\" #outputs\n",
    "os.makedirs(output_path, exist_ok=True)"
   ]
  },
  {
   "cell_type": "markdown",
   "metadata": {},
   "source": [
    "**1) Organisation des données par émotion.**"
   ]
  },
  {
   "cell_type": "code",
   "execution_count": 4,
   "metadata": {},
   "outputs": [],
   "source": [
    "# Les émotions possibles\n",
    "emotion_map = {\n",
    "    \"01\": \"neutre\",\n",
    "    \"02\": \"calme\",\n",
    "    \"03\": \"heureux\",\n",
    "    \"04\": \"triste\",\n",
    "    \"05\": \"colère\",\n",
    "    \"06\": \"peur\",\n",
    "    \"07\": \"dégoût\",\n",
    "    \"08\": \"surprise\"\n",
    "}"
   ]
  },
  {
   "cell_type": "code",
   "execution_count": 5,
   "metadata": {},
   "outputs": [
    {
     "name": "stdout",
     "output_type": "stream",
     "text": [
      "✅ Fichiers copiés et organisés par émotion dans : ./sorted_by_emotion\n"
     ]
    }
   ],
   "source": [
    "# Parcours de tous les sous-dossiers et fichiers\n",
    "for root, dirs, files in os.walk(dataset_path):\n",
    "    for file in files:\n",
    "        if file.endswith(\".wav\"):\n",
    "            parts = file.split(\"-\")\n",
    "            emotion_code = parts[2]\n",
    "            emotion_name = emotion_map.get(emotion_code, \"inconnu\")\n",
    "\n",
    "            # 📁 Crée un dossier pour chaque émotion\n",
    "            emotion_folder = os.path.join(output_path, emotion_name)\n",
    "            os.makedirs(emotion_folder, exist_ok=True)\n",
    "\n",
    "            # 📤 Copie le fichier audio dans le bon dossier\n",
    "            source_file = os.path.join(root, file)\n",
    "            dest_file = os.path.join(emotion_folder, file)\n",
    "            shutil.copy(source_file, dest_file)\n",
    "\n",
    "print(\"✅ Fichiers copiés et organisés par émotion dans :\", output_path)"
   ]
  },
  {
   "cell_type": "markdown",
   "metadata": {},
   "source": [
    "**2) Prétraitement des données audio**"
   ]
  },
  {
   "cell_type": "code",
   "execution_count": 6,
   "metadata": {},
   "outputs": [
    {
     "name": "stdout",
     "output_type": "stream",
     "text": [
      "✅ MFCCs extraits : (1440, 40, 174)\n",
      "✅ Labels extraits : (1440,)\n"
     ]
    }
   ],
   "source": [
    "# 📁 Dossier contenant les fichiers triés par émotion\n",
    "data_path = \"./sorted_by_emotion\"\n",
    "\n",
    "# 📦 Données finales\n",
    "X = []  # features\n",
    "y = []  # labels (émotions)\n",
    "\n",
    "# 🔁 Parcours de chaque dossier d’émotion\n",
    "for emotion_label in os.listdir(data_path):\n",
    "    emotion_folder = os.path.join(data_path, emotion_label)\n",
    "    if not os.path.isdir(emotion_folder):\n",
    "        continue\n",
    "\n",
    "    # Parcours des fichiers .wav\n",
    "    for file in os.listdir(emotion_folder):\n",
    "        if file.endswith(\".wav\"):\n",
    "            file_path = os.path.join(emotion_folder, file)\n",
    "\n",
    "            # 🔊 Charger l'audio\n",
    "            audio, sr = librosa.load(file_path, sr=22050)\n",
    "\n",
    "            # 🎯 Extraire les MFCCs\n",
    "            mfcc = librosa.feature.mfcc(y=audio, sr=sr, n_mfcc=40)\n",
    "\n",
    "            # 🔁 S'assurer que toutes les séquences ont la même longueur\n",
    "            mfcc = librosa.util.fix_length(mfcc, size=174, axis=1)  # (40, 174)\n",
    "\n",
    "            # Ajouter à la liste\n",
    "            X.append(mfcc)\n",
    "            y.append(emotion_label)\n",
    "\n",
    "# 📐 Convertir en tableaux numpy\n",
    "X = np.array(X)\n",
    "y = np.array(y)\n",
    "\n",
    "print(\"✅ MFCCs extraits :\", X.shape)\n",
    "print(\"✅ Labels extraits :\", y.shape)\n"
   ]
  },
  {
   "cell_type": "markdown",
   "metadata": {},
   "source": [
    "**3) Encoder les labels (émotions) en format numérique**"
   ]
  },
  {
   "cell_type": "code",
   "execution_count": 7,
   "metadata": {},
   "outputs": [
    {
     "name": "stdout",
     "output_type": "stream",
     "text": [
      "Labels encodés : [6 6 6 6 6 6 6 6 6 6]\n",
      "Classes : ['calme' 'colère' 'dégoût' 'heureux' 'neutre' 'peur' 'surprise' 'triste']\n"
     ]
    }
   ],
   "source": [
    "le = LabelEncoder()\n",
    "y_encoded = le.fit_transform(y)\n",
    "\n",
    "print(\"Labels encodés :\", y_encoded[:10])\n",
    "print(\"Classes :\", le.classes_)"
   ]
  },
  {
   "cell_type": "markdown",
   "metadata": {},
   "source": [
    "**4) Préparation des données pour le modèle**"
   ]
  },
  {
   "cell_type": "code",
   "execution_count": 8,
   "metadata": {},
   "outputs": [
    {
     "name": "stdout",
     "output_type": "stream",
     "text": [
      "Nouvelle forme de X : (1440, 40, 174, 1)\n"
     ]
    }
   ],
   "source": [
    "X = X[..., np.newaxis]\n",
    "print(\"Nouvelle forme de X :\", X.shape)"
   ]
  },
  {
   "cell_type": "markdown",
   "metadata": {},
   "source": [
    "**5) Séparation en train/test**"
   ]
  },
  {
   "cell_type": "code",
   "execution_count": 9,
   "metadata": {},
   "outputs": [],
   "source": [
    "X_train, X_test, y_train, y_test = train_test_split(X, y_encoded, test_size=0.2, random_state=42, stratify=y_encoded)"
   ]
  },
  {
   "cell_type": "markdown",
   "metadata": {},
   "source": [
    "**6) Construire un modèle simple CNN avec TensorFlow/Keras**"
   ]
  },
  {
   "cell_type": "code",
   "execution_count": 10,
   "metadata": {},
   "outputs": [
    {
     "name": "stdout",
     "output_type": "stream",
     "text": [
      "Model: \"sequential\"\n",
      "_________________________________________________________________\n",
      " Layer (type)                Output Shape              Param #   \n",
      "=================================================================\n",
      " conv2d (Conv2D)             (None, 38, 172, 32)       320       \n",
      "                                                                 \n",
      " max_pooling2d (MaxPooling2D  (None, 19, 86, 32)       0         \n",
      " )                                                               \n",
      "                                                                 \n",
      " conv2d_1 (Conv2D)           (None, 17, 84, 64)        18496     \n",
      "                                                                 \n",
      " max_pooling2d_1 (MaxPooling  (None, 8, 42, 64)        0         \n",
      " 2D)                                                             \n",
      "                                                                 \n",
      " flatten (Flatten)           (None, 21504)             0         \n",
      "                                                                 \n",
      " dense (Dense)               (None, 128)               2752640   \n",
      "                                                                 \n",
      " dropout (Dropout)           (None, 128)               0         \n",
      "                                                                 \n",
      " dense_1 (Dense)             (None, 8)                 1032      \n",
      "                                                                 \n",
      "=================================================================\n",
      "Total params: 2,772,488\n",
      "Trainable params: 2,772,488\n",
      "Non-trainable params: 0\n",
      "_________________________________________________________________\n"
     ]
    }
   ],
   "source": [
    "model = Sequential([\n",
    "    Conv2D(32, (3,3), activation='relu', input_shape=(40, 174, 1)),\n",
    "    MaxPooling2D((2,2)),\n",
    "    Conv2D(64, (3,3), activation='relu'),\n",
    "    MaxPooling2D((2,2)),\n",
    "    Flatten(),\n",
    "    Dense(128, activation='relu'),\n",
    "    Dropout(0.3),\n",
    "    Dense(len(le.classes_), activation='softmax')  # nombre de classes = nb émotions\n",
    "])\n",
    "\n",
    "model.compile(optimizer='adam', loss='sparse_categorical_crossentropy', metrics=['accuracy'])\n",
    "model.summary()"
   ]
  },
  {
   "cell_type": "markdown",
   "metadata": {},
   "source": [
    "**7) Entraînement du modèle**"
   ]
  },
  {
   "cell_type": "code",
   "execution_count": 11,
   "metadata": {},
   "outputs": [
    {
     "name": "stdout",
     "output_type": "stream",
     "text": [
      "Epoch 1/30\n",
      "36/36 [==============================] - 3s 79ms/step - loss: 8.1019 - accuracy: 0.1450 - val_loss: 2.0156 - val_accuracy: 0.1736\n",
      "Epoch 2/30\n",
      "36/36 [==============================] - 3s 74ms/step - loss: 2.0158 - accuracy: 0.2031 - val_loss: 1.9058 - val_accuracy: 0.2535\n",
      "Epoch 3/30\n",
      "36/36 [==============================] - 3s 73ms/step - loss: 1.7390 - accuracy: 0.3385 - val_loss: 1.8067 - val_accuracy: 0.3194\n",
      "Epoch 4/30\n",
      "36/36 [==============================] - 3s 72ms/step - loss: 1.2492 - accuracy: 0.5703 - val_loss: 1.5497 - val_accuracy: 0.4236\n",
      "Epoch 5/30\n",
      "36/36 [==============================] - 3s 74ms/step - loss: 0.7353 - accuracy: 0.7509 - val_loss: 1.3711 - val_accuracy: 0.5104\n",
      "Epoch 6/30\n",
      "36/36 [==============================] - 3s 71ms/step - loss: 0.3921 - accuracy: 0.8655 - val_loss: 1.4461 - val_accuracy: 0.5278\n",
      "Epoch 7/30\n",
      "36/36 [==============================] - 3s 71ms/step - loss: 0.2499 - accuracy: 0.9193 - val_loss: 1.5570 - val_accuracy: 0.5278\n",
      "Epoch 8/30\n",
      "36/36 [==============================] - 3s 73ms/step - loss: 0.1769 - accuracy: 0.9497 - val_loss: 1.6774 - val_accuracy: 0.5451\n",
      "Epoch 9/30\n",
      "36/36 [==============================] - 3s 73ms/step - loss: 0.0892 - accuracy: 0.9766 - val_loss: 1.8052 - val_accuracy: 0.5417\n",
      "Epoch 10/30\n",
      "36/36 [==============================] - 3s 80ms/step - loss: 0.0825 - accuracy: 0.9800 - val_loss: 1.8230 - val_accuracy: 0.5903\n",
      "Epoch 11/30\n",
      "36/36 [==============================] - 3s 80ms/step - loss: 0.0552 - accuracy: 0.9887 - val_loss: 1.7775 - val_accuracy: 0.5521\n",
      "Epoch 12/30\n",
      "36/36 [==============================] - 3s 80ms/step - loss: 0.0434 - accuracy: 0.9896 - val_loss: 1.7497 - val_accuracy: 0.5729\n",
      "Epoch 13/30\n",
      "36/36 [==============================] - 3s 84ms/step - loss: 0.0429 - accuracy: 0.9870 - val_loss: 1.7435 - val_accuracy: 0.5660\n",
      "Epoch 14/30\n",
      "36/36 [==============================] - 3s 81ms/step - loss: 0.0328 - accuracy: 0.9922 - val_loss: 1.9865 - val_accuracy: 0.5243\n",
      "Epoch 15/30\n",
      "36/36 [==============================] - 3s 81ms/step - loss: 0.0189 - accuracy: 0.9974 - val_loss: 2.1008 - val_accuracy: 0.5660\n",
      "Epoch 16/30\n",
      "36/36 [==============================] - 3s 81ms/step - loss: 0.0165 - accuracy: 0.9948 - val_loss: 1.9176 - val_accuracy: 0.5694\n",
      "Epoch 17/30\n",
      "36/36 [==============================] - 3s 78ms/step - loss: 0.0264 - accuracy: 0.9931 - val_loss: 2.0390 - val_accuracy: 0.5660\n",
      "Epoch 18/30\n",
      "36/36 [==============================] - 3s 80ms/step - loss: 0.0215 - accuracy: 0.9931 - val_loss: 1.9227 - val_accuracy: 0.5625\n",
      "Epoch 19/30\n",
      "36/36 [==============================] - 3s 77ms/step - loss: 0.0222 - accuracy: 0.9974 - val_loss: 1.9084 - val_accuracy: 0.5729\n",
      "Epoch 20/30\n",
      "36/36 [==============================] - 3s 85ms/step - loss: 0.0252 - accuracy: 0.9931 - val_loss: 1.8423 - val_accuracy: 0.5660\n",
      "Epoch 21/30\n",
      "36/36 [==============================] - 3s 80ms/step - loss: 0.0232 - accuracy: 0.9948 - val_loss: 2.0774 - val_accuracy: 0.5903\n",
      "Epoch 22/30\n",
      "36/36 [==============================] - 3s 75ms/step - loss: 0.0217 - accuracy: 0.9939 - val_loss: 2.1421 - val_accuracy: 0.5521\n",
      "Epoch 23/30\n",
      "36/36 [==============================] - 3s 77ms/step - loss: 0.0317 - accuracy: 0.9905 - val_loss: 1.9251 - val_accuracy: 0.5868\n",
      "Epoch 24/30\n",
      "36/36 [==============================] - 3s 77ms/step - loss: 0.0416 - accuracy: 0.9835 - val_loss: 2.3451 - val_accuracy: 0.5764\n",
      "Epoch 25/30\n",
      "36/36 [==============================] - 3s 75ms/step - loss: 0.0342 - accuracy: 0.9870 - val_loss: 2.0491 - val_accuracy: 0.5521\n",
      "Epoch 26/30\n",
      "36/36 [==============================] - 3s 75ms/step - loss: 0.0300 - accuracy: 0.9905 - val_loss: 2.0883 - val_accuracy: 0.5764\n",
      "Epoch 27/30\n",
      "36/36 [==============================] - 3s 75ms/step - loss: 0.0458 - accuracy: 0.9861 - val_loss: 1.9632 - val_accuracy: 0.5764\n",
      "Epoch 28/30\n",
      "36/36 [==============================] - 3s 76ms/step - loss: 0.0217 - accuracy: 0.9931 - val_loss: 2.3239 - val_accuracy: 0.5590\n",
      "Epoch 29/30\n",
      "36/36 [==============================] - 3s 76ms/step - loss: 0.0187 - accuracy: 0.9957 - val_loss: 2.2162 - val_accuracy: 0.5903\n",
      "Epoch 30/30\n",
      "36/36 [==============================] - 3s 78ms/step - loss: 0.0087 - accuracy: 0.9965 - val_loss: 2.2584 - val_accuracy: 0.5938\n"
     ]
    }
   ],
   "source": [
    "history = model.fit(X_train, y_train, epochs=30, batch_size=32, validation_data=(X_test, y_test))"
   ]
  },
  {
   "cell_type": "markdown",
   "metadata": {},
   "source": [
    "**8) Évaluation et visualisation**"
   ]
  },
  {
   "cell_type": "code",
   "execution_count": 12,
   "metadata": {},
   "outputs": [
    {
     "data": {
      "image/png": "[encoded data removed]",
      "text/plain": [
       "<Figure size 640x480 with 1 Axes>"
      ]
     },
     "metadata": {},
     "output_type": "display_data"
    }
   ],
   "source": [
    "plt.plot(history.history['accuracy'], label='train acc')\n",
    "plt.plot(history.history['val_accuracy'], label='val acc')\n",
    "plt.xlabel('Epoch')\n",
    "plt.ylabel('Accuracy')\n",
    "plt.legend()\n",
    "plt.show()"
   ]
  },
  {
   "cell_type": "code",
   "execution_count": 13,
   "metadata": {},
   "outputs": [
    {
     "name": "stdout",
     "output_type": "stream",
     "text": [
      "9/9 [==============================] - 0s 22ms/step\n"
     ]
    },
    {
     "data": {
      "image/png": "[encoded data removed]",
      "text/plain": [
       "<Figure size 640x480 with 2 Axes>"
      ]
     },
     "metadata": {},
     "output_type": "display_data"
    }
   ],
   "source": [
    "y_pred = model.predict(X_test)\n",
    "y_pred_classes = np.argmax(y_pred, axis=1)\n",
    "\n",
    "cm = confusion_matrix(y_test, y_pred_classes)\n",
    "disp = ConfusionMatrixDisplay(confusion_matrix=cm, display_labels=le.classes_)\n",
    "disp.plot(cmap=plt.cm.Blues)\n",
    "plt.show()"
   ]
  },
  {
   "cell_type": "markdown",
   "metadata": {},
   "source": [
    "**9) Test avec un fichier audio indépendant**"
   ]
  },
  {
   "cell_type": "code",
   "execution_count": 14,
   "metadata": {},
   "outputs": [],
   "source": [
    "def predict_emotion(file_path):\n",
    "    audio, sr = librosa.load(file_path, sr=22050)\n",
    "    mfcc = librosa.feature.mfcc(y=audio, sr=sr, n_mfcc=40)\n",
    "    mfcc = librosa.util.fix_length(mfcc, size=174, axis=1)\n",
    "    mfcc = mfcc[np.newaxis, ..., np.newaxis]\n",
    "    pred = model.predict(mfcc)\n",
    "    emotion = le.classes_[np.argmax(pred)]\n",
    "    return emotion"
   ]
  },
  {
   "cell_type": "code",
   "execution_count": 30,
   "metadata": {},
   "outputs": [],
   "source": [
    "print(\"Prédiction pour un fichier audio d'exemple :\")\n",
    "example_file = \"./sorted_by_emotion/heureux/03-01-03-01-01-01-01.wav\"\n",
    "print(\"Fichier :\", example_file)\n",
    "print(\"Émotion prédite :\", predict_emotion(example_file))\n",
    "# Sauvegarder le modèle\n",
    "model.save('emotion_recognition_model.h5')\n",
    "print(\"✅ Modèle sauvegardé sous 'emotion_recognition_model.h5'\")\n",
    "# Nettoyage des fichiers temporaires\n",
    "shutil.rmtree(output_path)\n",
    "print(\"✅ Dossier temporaire supprimé :\", output_path)\n",
    "# Fin du script"
   ]
  }
 ],
 "metadata": {
  "kernelspec": {
   "display_name": "tf-env",
   "language": "python",
   "name": "python3"
  },
  "language_info": {
   "codemirror_mode": {
    "name": "ipython",
    "version": 3
   },
   "file_extension": ".py",
   "mimetype": "text/x-python",
   "name": "python",
   "nbconvert_exporter": "python",
   "pygments_lexer": "ipython3",
   "version": "3.9.23"
  }
 },
 "nbformat": 4,
 "nbformat_minor": 2
}
